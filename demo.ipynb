{
 "cells": [
  {
   "cell_type": "code",
   "execution_count": 1,
   "metadata": {},
   "outputs": [],
   "source": [
    "from src.solvers import Collision\n"
   ]
  },
  {
   "cell_type": "code",
   "execution_count": 2,
   "metadata": {},
   "outputs": [
    {
     "name": "stdout",
     "output_type": "stream",
     "text": [
      "Checking collision...\n",
      "3 -> 2; 2 -> 1\n",
      "2 -> 1; 1 -> 0\n",
      "0 -> 2; 2 -> 1\n",
      "3 -> 1; 1 -> 0\n",
      "1 -> 0; 0 -> 2\n",
      "--------------------------------------------------\n",
      "Unsafe routes:\n",
      "3 -> 2: 1\n",
      "2 -> 1: 3\n",
      "1 -> 0: 3\n",
      "0 -> 2: 2\n",
      "3 -> 1: 1\n",
      "==================================================\n",
      "[(2, 1, 3), (1, 0, 3), (0, 2, 2), (3, 2, 1), (3, 1, 1)]\n"
     ]
    }
   ],
   "source": [
    "# Define current green lights\n",
    "\n",
    "green_lights = {\n",
    "    0: [1, 2],\n",
    "    1: [3],\n",
    "    2: [1, 3],\n",
    "    3: [2, 3],\n",
    "}\n",
    "\n",
    "collision = Collision(green_lights)\n",
    "unsafe_routes = collision.check_unsafe_routes(verbose=True)\n",
    "\n",
    "print('='*50)\n",
    "\n",
    "unsafe_routes = [(route[0], route[1], count) for route, count in unsafe_routes.items()]\n",
    "unsafe_routes.sort(key=lambda x: x[2], reverse=True)\n",
    "print(unsafe_routes)"
   ]
  },
  {
   "cell_type": "code",
   "execution_count": 3,
   "metadata": {},
   "outputs": [
    {
     "name": "stdout",
     "output_type": "stream",
     "text": [
      "Checking collision...\n",
      "3 -> 1; 1 -> 0\n",
      "1 -> 0; 0 -> 2\n",
      "--------------------------------------------------\n",
      "Unsafe routes:\n",
      "3 -> 1: 1\n",
      "1 -> 0: 2\n",
      "0 -> 2: 1\n",
      "==================================================\n",
      "[(1, 0, 2), (3, 1, 1), (0, 2, 1)]\n"
     ]
    }
   ],
   "source": [
    "start, end = unsafe_routes[0][:2]\n",
    "collision.remove_greenlight(start, (end - start) % collision.n_ways)\n",
    "unsafe_routes = collision.check_unsafe_routes(verbose=True)\n",
    "\n",
    "print('='*50)\n",
    "\n",
    "unsafe_routes = [(route[0], route[1], count) for route, count in unsafe_routes.items()]\n",
    "unsafe_routes.sort(key=lambda x: x[2], reverse=True)\n",
    "print(unsafe_routes)"
   ]
  },
  {
   "cell_type": "code",
   "execution_count": 4,
   "metadata": {},
   "outputs": [
    {
     "name": "stdout",
     "output_type": "stream",
     "text": [
      "Checking collision...\n",
      "--------------------------------------------------\n",
      "Unsafe routes:\n",
      "==================================================\n",
      "[]\n"
     ]
    }
   ],
   "source": [
    "start, end = unsafe_routes[0][:2]\n",
    "collision.remove_greenlight(start, (end - start) % collision.n_ways)\n",
    "unsafe_routes = collision.check_unsafe_routes(verbose=True)\n",
    "\n",
    "print('='*50)\n",
    "\n",
    "unsafe_routes = [(route[0], route[1], count) for route, count in unsafe_routes.items()]\n",
    "unsafe_routes.sort(key=lambda x: x[2], reverse=True)\n",
    "print(unsafe_routes)\n"
   ]
  }
 ],
 "metadata": {
  "kernelspec": {
   "display_name": "cs6315",
   "language": "python",
   "name": "python3"
  },
  "language_info": {
   "codemirror_mode": {
    "name": "ipython",
    "version": 3
   },
   "file_extension": ".py",
   "mimetype": "text/x-python",
   "name": "python",
   "nbconvert_exporter": "python",
   "pygments_lexer": "ipython3",
   "version": "3.10.14"
  }
 },
 "nbformat": 4,
 "nbformat_minor": 2
}
