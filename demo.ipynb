{
 "cells": [
  {
   "cell_type": "code",
   "execution_count": 1,
   "metadata": {},
   "outputs": [],
   "source": [
    "import copy\n",
    "\n",
    "from src.solvers import Collision, AddSafeRoute\n"
   ]
  },
  {
   "cell_type": "code",
   "execution_count": 2,
   "metadata": {},
   "outputs": [
    {
     "name": "stdout",
     "output_type": "stream",
     "text": [
      "Checking collision...\n",
      "1 -> 0; 2 -> 1\n",
      "0 -> 2; 3 -> 1\n",
      "0 -> 2; 2 -> 1\n",
      "0 -> 2; 1 -> 0\n",
      "1 -> 0; 3 -> 1\n",
      "2 -> 1; 3 -> 2\n",
      "--------------------------------------------------\n",
      "Unsafe routes:\n",
      "1 -> 0: 3\n",
      "2 -> 1: 3\n",
      "0 -> 2: 3\n",
      "3 -> 1: 2\n",
      "3 -> 2: 1\n",
      "==================================================\n"
     ]
    }
   ],
   "source": [
    "# Define current green lights\n",
    "\n",
    "green_lights = {\n",
    "    0: [1, 2],\n",
    "    1: [3],\n",
    "    2: [1, 3],\n",
    "    3: [2, 3],\n",
    "}\n",
    "\n",
    "collision = Collision(green_lights)\n",
    "unsafe_routes = collision.check_unsafe_routes(verbose=True)\n",
    "\n",
    "print('='*50)\n",
    "\n",
    "unsafe_routes = [(route[0], route[1], count) for route, count in unsafe_routes.items()]\n",
    "unsafe_routes.sort(key=lambda x: x[2], reverse=True)\n",
    "# print(unsafe_routes)\n"
   ]
  },
  {
   "cell_type": "code",
   "execution_count": 3,
   "metadata": {},
   "outputs": [
    {
     "name": "stdout",
     "output_type": "stream",
     "text": [
      "Checking collision...\n",
      "2 -> 1; 3 -> 2\n",
      "0 -> 2; 3 -> 1\n",
      "0 -> 2; 2 -> 1\n",
      "--------------------------------------------------\n",
      "Unsafe routes:\n",
      "2 -> 1: 2\n",
      "3 -> 2: 1\n",
      "0 -> 2: 2\n",
      "3 -> 1: 1\n",
      "==================================================\n"
     ]
    }
   ],
   "source": [
    "start, end = (1, 0)\n",
    "collision.remove_greenlight(start, (end - start) % collision.n_ways)\n",
    "unsafe_routes = collision.check_unsafe_routes(verbose=True)\n",
    "\n",
    "print('='*50)\n",
    "\n",
    "unsafe_routes = [(route[0], route[1], count) for route, count in unsafe_routes.items()]\n",
    "unsafe_routes.sort(key=lambda x: x[2], reverse=True)\n",
    "# print(unsafe_routes)"
   ]
  },
  {
   "cell_type": "code",
   "execution_count": 4,
   "metadata": {},
   "outputs": [
    {
     "name": "stdout",
     "output_type": "stream",
     "text": [
      "Checking collision...\n",
      "2 -> 1; 3 -> 2\n",
      "--------------------------------------------------\n",
      "Unsafe routes:\n",
      "2 -> 1: 1\n",
      "3 -> 2: 1\n",
      "==================================================\n",
      "[(2, 1, 1), (3, 2, 1)]\n"
     ]
    }
   ],
   "source": [
    "start, end = (0, 2)\n",
    "collision.remove_greenlight(start, (end - start) % collision.n_ways)\n",
    "unsafe_routes = collision.check_unsafe_routes(verbose=True)\n",
    "\n",
    "print('='*50)\n",
    "\n",
    "unsafe_routes = [(route[0], route[1], count) for route, count in unsafe_routes.items()]\n",
    "unsafe_routes.sort(key=lambda x: x[2], reverse=True)\n",
    "print(unsafe_routes)\n"
   ]
  },
  {
   "cell_type": "code",
   "execution_count": 5,
   "metadata": {},
   "outputs": [
    {
     "name": "stdout",
     "output_type": "stream",
     "text": [
      "Checking collision...\n",
      "--------------------------------------------------\n",
      "Unsafe routes:\n",
      "==================================================\n",
      "[]\n",
      "{0: [1], 1: [], 2: [1], 3: [2, 3]}\n"
     ]
    }
   ],
   "source": [
    "start, end = (2, 1)\n",
    "collision.remove_greenlight(start, (end - start) % collision.n_ways)\n",
    "unsafe_routes = collision.check_unsafe_routes(verbose=True)\n",
    "\n",
    "print('='*50)\n",
    "\n",
    "unsafe_routes = [(route[0], route[1], count) for route, count in unsafe_routes.items()]\n",
    "unsafe_routes.sort(key=lambda x: x[2], reverse=True)\n",
    "print(unsafe_routes)\n",
    "\n",
    "print(collision.greenlights)"
   ]
  },
  {
   "cell_type": "code",
   "execution_count": 6,
   "metadata": {},
   "outputs": [
    {
     "name": "stdout",
     "output_type": "stream",
     "text": [
      "Safe route: 1 -> 2\n",
      "Safe route: 3 -> 0\n"
     ]
    },
    {
     "data": {
      "text/plain": [
       "[(1, 2), (3, 0)]"
      ]
     },
     "execution_count": 6,
     "metadata": {},
     "output_type": "execute_result"
    }
   ],
   "source": [
    "safe_greenlights = copy.deepcopy(collision.greenlights)\n",
    "safe_route = AddSafeRoute(safe_greenlights, collision.n_ways)\n",
    "safe_route.get_safe_candidates(True)"
   ]
  },
  {
   "cell_type": "code",
   "execution_count": 7,
   "metadata": {},
   "outputs": [
    {
     "name": "stdout",
     "output_type": "stream",
     "text": [
      "Safe route: 3 -> 0\n"
     ]
    },
    {
     "data": {
      "text/plain": [
       "[(3, 0)]"
      ]
     },
     "execution_count": 7,
     "metadata": {},
     "output_type": "execute_result"
    }
   ],
   "source": [
    "safe_route.add_safe_route(1, 2)\n",
    "safe_route.get_safe_candidates(True)"
   ]
  },
  {
   "cell_type": "code",
   "execution_count": 8,
   "metadata": {},
   "outputs": [
    {
     "data": {
      "text/plain": [
       "[]"
      ]
     },
     "execution_count": 8,
     "metadata": {},
     "output_type": "execute_result"
    }
   ],
   "source": [
    "safe_route.add_safe_route(3, 0)\n",
    "safe_route.get_safe_candidates(True)"
   ]
  }
 ],
 "metadata": {
  "kernelspec": {
   "display_name": "cs6315",
   "language": "python",
   "name": "python3"
  },
  "language_info": {
   "codemirror_mode": {
    "name": "ipython",
    "version": 3
   },
   "file_extension": ".py",
   "mimetype": "text/x-python",
   "name": "python",
   "nbconvert_exporter": "python",
   "pygments_lexer": "ipython3",
   "version": "3.10.14"
  }
 },
 "nbformat": 4,
 "nbformat_minor": 2
}
